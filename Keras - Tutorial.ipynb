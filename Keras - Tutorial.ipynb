{
 "cells": [
  {
   "cell_type": "markdown",
   "metadata": {},
   "source": [
    "# Keras tutorial - the Happy House\n",
    "\n",
    "Welcome to this Keras tutorial. Here we will:\n",
    "1. Learn to use Keras, a high-level neural networks API (programming framework), written in Python and capable of running on top of several lower-level frameworks including TensorFlow and CNTK. \n",
    "2. See how we can in a couple of hours build a deep learning algorithm.\n",
    "\n",
    "Why are we using Keras? Keras was developed to enable deep learning engineers to build and experiment with different models very quickly. Just as TensorFlow is a higher-level framework than Python, Keras is an even higher-level framework and provides additional abstractions. Being able to go from idea to result with the least possible delay is key to finding good models. However, Keras is more restrictive than the lower-level frameworks, so there are some very complex models that you can implement in TensorFlow but not (without more difficulty) in Keras. That being said, Keras will work fine for many common models. \n",
    "\n",
    "In this exercise, we'll work on the \"Happy House\" problem explained below. Let's load the required packages and solve the problem of the Happy House!"
   ]
  },
  {
   "cell_type": "code",
   "execution_count": 13,
   "metadata": {},
   "outputs": [],
   "source": [
    "import numpy as np\n",
    "from keras import layers\n",
    "from keras.layers import Input, Dense, Activation, ZeroPadding2D, BatchNormalization, Flatten, Conv2D\n",
    "from keras.layers import AveragePooling2D, MaxPooling2D, Dropout, GlobalMaxPooling2D, GlobalAveragePooling2D\n",
    "from keras.models import Model\n",
    "from keras.preprocessing import image\n",
    "from keras.utils import layer_utils\n",
    "from keras.utils.data_utils import get_file\n",
    "from keras.applications.imagenet_utils import preprocess_input\n",
    "import pydot, h5py\n",
    "from IPython.display import SVG\n",
    "from keras.utils.vis_utils import model_to_dot\n",
    "from keras.utils import plot_model\n",
    "\n",
    "import keras.backend as K\n",
    "K.set_image_data_format('channels_last')\n",
    "import matplotlib.pyplot as plt\n",
    "from matplotlib.pyplot import imshow\n",
    "\n",
    "%matplotlib inline"
   ]
  },
  {
   "cell_type": "markdown",
   "metadata": {},
   "source": [
    "## 1 - The Happy House \n",
    "\n",
    "For your next vacation, you decided to spend a week with five of your friends from school. It is a very convenient house with many things to do nearby. But the most important benefit is that everybody has commited to be happy when they are in the house. So anyone wanting to enter the house must prove their current state of happiness.\n",
    "\n",
    "<img src=\"images/happy-house.jpg\" style=\"width:350px;height:270px;\">\n",
    "<caption><center> <u> <font color='purple'> **Figure 1** </u><font color='purple'>  : **the Happy House**</center></caption>\n",
    "\n",
    "\n",
    "As a deep learning expert, to make sure the \"Happy\" rule is strictly applied, you are going to build an algorithm which that uses pictures from the front door camera to check if the person is happy or not. The door should open only if the person is happy. \n",
    "\n",
    "You have gathered pictures of your friends and yourself, taken by the front-door camera. The dataset is labbeled. \n",
    "\n",
    "<img src=\"images/house-members.png\" style=\"width:550px;height:250px;\">\n",
    "\n",
    "Run the following code to normalize the dataset and learn about its shapes."
   ]
  },
  {
   "cell_type": "code",
   "execution_count": 2,
   "metadata": {},
   "outputs": [
    {
     "name": "stdout",
     "output_type": "stream",
     "text": [
      "number of training examples = 600\n",
      "number of test examples = 150\n",
      "X_train shape: (600, 64, 64, 3)\n",
      "Y_train shape: (600, 1)\n",
      "X_test shape: (150, 64, 64, 3)\n",
      "Y_test shape: (150, 1)\n"
     ]
    }
   ],
   "source": [
    "def load_dataset():\n",
    "    train_dataset = h5py.File('datasets/train_happy.h5', \"r\")\n",
    "    train_set_x_orig = np.array(train_dataset[\"train_set_x\"][:]) # your train set features\n",
    "    train_set_y_orig = np.array(train_dataset[\"train_set_y\"][:]) # your train set labels\n",
    "\n",
    "    test_dataset = h5py.File('datasets/test_happy.h5', \"r\")\n",
    "    test_set_x_orig = np.array(test_dataset[\"test_set_x\"][:]) # your test set features\n",
    "    test_set_y_orig = np.array(test_dataset[\"test_set_y\"][:]) # your test set labels\n",
    "\n",
    "    classes = np.array(test_dataset[\"list_classes\"][:]) # the list of classes\n",
    "    \n",
    "    train_set_y_orig = train_set_y_orig.reshape((1, train_set_y_orig.shape[0]))\n",
    "    test_set_y_orig = test_set_y_orig.reshape((1, test_set_y_orig.shape[0]))\n",
    "    \n",
    "    return train_set_x_orig, train_set_y_orig, test_set_x_orig, test_set_y_orig, classes\n",
    "\n",
    "X_train_orig, Y_train_orig, X_test_orig, Y_test_orig, classes = load_dataset()\n",
    "\n",
    "# Normalize image vectors\n",
    "X_train = X_train_orig/255.\n",
    "X_test = X_test_orig/255.\n",
    "\n",
    "# Reshape\n",
    "Y_train = Y_train_orig.T\n",
    "Y_test = Y_test_orig.T\n",
    "\n",
    "print (\"number of training examples = \" + str(X_train.shape[0]))\n",
    "print (\"number of test examples = \" + str(X_test.shape[0]))\n",
    "print (\"X_train shape: \" + str(X_train.shape))\n",
    "print (\"Y_train shape: \" + str(Y_train.shape))\n",
    "print (\"X_test shape: \" + str(X_test.shape))\n",
    "print (\"Y_test shape: \" + str(Y_test.shape))"
   ]
  },
  {
   "cell_type": "markdown",
   "metadata": {},
   "source": [
    "**Details of the \"Happy\" dataset**:\n",
    "- Images are of shape (64,64,3)\n",
    "- Training: 600 pictures\n",
    "- Test: 150 pictures\n",
    "\n",
    "It is now time to solve the \"Happy\" Challenge."
   ]
  },
  {
   "cell_type": "markdown",
   "metadata": {},
   "source": [
    "## 2 - Building a model in Keras\n",
    "\n",
    "Keras is very good for rapid prototyping. In just a short time we are be able to build a model that achieves outstanding results. \n",
    "\n",
    "Note that Keras uses a different convention with variable names than we've previously used with numpy and TensorFlow. In particular, rather than creating and assigning a new variable on each step of forward propagation such as `X`, `Z1`, `A1`, `Z2`, `A2`, etc. for the computations for the different layers, in Keras code each line above just reassigns `X` to a new value using `X = ...`. In other words, during each step of forward propagation, we are just writing the latest value in the commputation into the same variable `X`. The only exception was `X_input`, which we kept separate and did not overwrite, since we needed it at the end to create the Keras model instance (`model = Model(inputs = X_input, ...)` above). \n"
   ]
  },
  {
   "cell_type": "code",
   "execution_count": 3,
   "metadata": {},
   "outputs": [],
   "source": [
    "def HappyModel(input_shape):\n",
    "    \"\"\"\n",
    "    Implementation of the HappyModel.\n",
    "    Arguments:\n",
    "    input_shape -- shape of the images of the dataset\n",
    "    Returns:\n",
    "    model -- a Model() instance in Keras\n",
    "    \"\"\"\n",
    "    X_input = Input(input_shape)\n",
    "    \n",
    "    # Zero-Padding: pads the border of X_input with zeroes\n",
    "    X = ZeroPadding2D((3, 3))(X_input)\n",
    "    \n",
    "    # CONV -> BN -> RELU Block applied to X\n",
    "    X = Conv2D(32, (7, 7), strides = (1, 1), name = 'conv0')(X)\n",
    "    X = BatchNormalization(axis = 3, name = 'bn0')(X)\n",
    "    X = Activation('relu')(X)\n",
    "\n",
    "    # MAXPOOL\n",
    "    X = MaxPooling2D((2, 2), name='max_pool')(X)\n",
    "\n",
    "    # FLATTEN X (means convert it to a vector) + FULLYCONNECTED\n",
    "    X = Flatten()(X)\n",
    "    X = Dense(1, activation='sigmoid', name='fc')(X)\n",
    "\n",
    "    # Create model. This creates your Keras model instance, you'll use this instance to train/test the model.\n",
    "    model = Model(inputs = X_input, outputs = X, name='HappyModel')    \n",
    "    \n",
    "    return model"
   ]
  },
  {
   "cell_type": "markdown",
   "metadata": {},
   "source": [
    "We have now built a function to describe your model. To train and test this model, there are four steps in Keras:\n",
    "1. Create the model by calling the function above\n",
    "2. Compile the model by calling `model.compile(optimizer = \"...\", loss = \"...\", metrics = [\"accuracy\"])`\n",
    "3. Train the model on train data by calling `model.fit(x = ..., y = ..., epochs = ..., batch_size = ...)`\n",
    "4. Test the model on test data by calling `model.evaluate(x = ..., y = ...)`\n",
    "\n",
    "If you want to know more about `model.compile()`, `model.fit()`, `model.evaluate()` and their arguments, refer to the official [Keras documentation](https://keras.io/models/model/)."
   ]
  },
  {
   "cell_type": "code",
   "execution_count": 11,
   "metadata": {},
   "outputs": [],
   "source": [
    "happyModel = HappyModel((64, 64, 3))"
   ]
  },
  {
   "cell_type": "code",
   "execution_count": 12,
   "metadata": {},
   "outputs": [],
   "source": [
    "#loss = \"binary_crossentropy\": It's a binary classification mproblem\n",
    "happyModel.compile(optimizer = \"adam\", loss = \"binary_crossentropy\", metrics = [\"accuracy\"])"
   ]
  },
  {
   "cell_type": "code",
   "execution_count": 6,
   "metadata": {},
   "outputs": [
    {
     "name": "stdout",
     "output_type": "stream",
     "text": [
      "Epoch 1/20\n",
      "600/600 [==============================] - 7s 11ms/step - loss: 1.3071 - acc: 0.6817\n",
      "Epoch 2/20\n",
      "600/600 [==============================] - 3s 6ms/step - loss: 0.2457 - acc: 0.8950\n",
      "Epoch 3/20\n",
      "600/600 [==============================] - 4s 6ms/step - loss: 0.1438 - acc: 0.9517\n",
      "Epoch 4/20\n",
      "600/600 [==============================] - 3s 6ms/step - loss: 0.1169 - acc: 0.9700\n",
      "Epoch 5/20\n",
      "600/600 [==============================] - 3s 5ms/step - loss: 0.1106 - acc: 0.9517\n",
      "Epoch 6/20\n",
      "600/600 [==============================] - 3s 5ms/step - loss: 0.0763 - acc: 0.9817\n",
      "Epoch 7/20\n",
      "600/600 [==============================] - 3s 6ms/step - loss: 0.0796 - acc: 0.9817\n",
      "Epoch 8/20\n",
      "600/600 [==============================] - 3s 5ms/step - loss: 0.0557 - acc: 0.9883\n",
      "Epoch 9/20\n",
      "600/600 [==============================] - 4s 6ms/step - loss: 0.0654 - acc: 0.9783\n",
      "Epoch 10/20\n",
      "600/600 [==============================] - 4s 6ms/step - loss: 0.0486 - acc: 0.9850\n",
      "Epoch 11/20\n",
      "600/600 [==============================] - 4s 6ms/step - loss: 0.0464 - acc: 0.9867\n",
      "Epoch 12/20\n",
      "600/600 [==============================] - 4s 6ms/step - loss: 0.0689 - acc: 0.9750\n",
      "Epoch 13/20\n",
      "600/600 [==============================] - 3s 6ms/step - loss: 0.0699 - acc: 0.9783\n",
      "Epoch 14/20\n",
      "600/600 [==============================] - 3s 6ms/step - loss: 0.0390 - acc: 0.9883\n",
      "Epoch 15/20\n",
      "600/600 [==============================] - 3s 6ms/step - loss: 0.0512 - acc: 0.9783\n",
      "Epoch 16/20\n",
      "600/600 [==============================] - 4s 6ms/step - loss: 0.0490 - acc: 0.9833\n",
      "Epoch 17/20\n",
      "600/600 [==============================] - 3s 6ms/step - loss: 0.0252 - acc: 0.9933\n",
      "Epoch 18/20\n",
      "600/600 [==============================] - 3s 6ms/step - loss: 0.0307 - acc: 0.9900\n",
      "Epoch 19/20\n",
      "600/600 [==============================] - 3s 5ms/step - loss: 0.0284 - acc: 0.9900\n",
      "Epoch 20/20\n",
      "600/600 [==============================] - 3s 6ms/step - loss: 0.0353 - acc: 0.9900\n"
     ]
    },
    {
     "data": {
      "text/plain": [
       "<keras.callbacks.History at 0x64d0e8b00>"
      ]
     },
     "execution_count": 6,
     "metadata": {},
     "output_type": "execute_result"
    }
   ],
   "source": [
    "happyModel.fit(x = X_train, y = Y_train, epochs = 20, batch_size = 32)"
   ]
  },
  {
   "cell_type": "markdown",
   "metadata": {},
   "source": [
    "Note that if you run `fit()` again, the `model` will continue to train with the parameters it has already learnt instead of reinitializing them."
   ]
  },
  {
   "cell_type": "code",
   "execution_count": 7,
   "metadata": {
    "scrolled": true
   },
   "outputs": [
    {
     "name": "stdout",
     "output_type": "stream",
     "text": [
      "150/150 [==============================] - 1s 5ms/step\n",
      "\n",
      "Loss = 0.1504107506076495\n",
      "Test Accuracy = 0.920000003973643\n"
     ]
    }
   ],
   "source": [
    "preds = happyModel.evaluate(x = X_test, y = Y_test)\n",
    "\n",
    "print()\n",
    "print(\"Loss = \" + str(preds[0]))\n",
    "print(\"Test Accuracy = \" + str(preds[1]))"
   ]
  },
  {
   "cell_type": "markdown",
   "metadata": {},
   "source": [
    "If the `happyModel()` function worked, you should have observed much better than random-guessing (50%) accuracy on the train and test sets.\n",
    "\n",
    "Note that the model gets decent accuracy after just 2-5 epochs, so if comparing different models we can also train a variety of models on just a few epochs and see how they compare. "
   ]
  },
  {
   "cell_type": "markdown",
   "metadata": {},
   "source": [
    "## 3 -  Useful functions in Keras\n",
    "\n",
    "Two useful basic features of Keras are:\n",
    "- `model.summary()`: prints the details of your layers in a table with the sizes of its inputs/outputs\n",
    "- `plot_model()`: plots your graph in a nice layout. You can even save it as \".png\" using SVG() if you'd like to share it on social media ;). It is saved in \"File\" then \"Open...\" in the upper bar of the notebook.\n",
    "\n",
    "Run the following code."
   ]
  },
  {
   "cell_type": "code",
   "execution_count": 8,
   "metadata": {
    "scrolled": false
   },
   "outputs": [
    {
     "name": "stdout",
     "output_type": "stream",
     "text": [
      "_________________________________________________________________\n",
      "Layer (type)                 Output Shape              Param #   \n",
      "=================================================================\n",
      "input_1 (InputLayer)         (None, 64, 64, 3)         0         \n",
      "_________________________________________________________________\n",
      "zero_padding2d_1 (ZeroPaddin (None, 70, 70, 3)         0         \n",
      "_________________________________________________________________\n",
      "conv0 (Conv2D)               (None, 64, 64, 32)        4736      \n",
      "_________________________________________________________________\n",
      "bn0 (BatchNormalization)     (None, 64, 64, 32)        128       \n",
      "_________________________________________________________________\n",
      "activation_1 (Activation)    (None, 64, 64, 32)        0         \n",
      "_________________________________________________________________\n",
      "max_pool (MaxPooling2D)      (None, 32, 32, 32)        0         \n",
      "_________________________________________________________________\n",
      "flatten_1 (Flatten)          (None, 32768)             0         \n",
      "_________________________________________________________________\n",
      "fc (Dense)                   (None, 1)                 32769     \n",
      "=================================================================\n",
      "Total params: 37,633\n",
      "Trainable params: 37,569\n",
      "Non-trainable params: 64\n",
      "_________________________________________________________________\n"
     ]
    }
   ],
   "source": [
    "happyModel.summary()"
   ]
  },
  {
   "cell_type": "code",
   "execution_count": 10,
   "metadata": {},
   "outputs": [
    {
     "data": {
      "image/svg+xml": [
       "<svg height=\"556pt\" viewBox=\"0.00 0.00 225.01 556.00\" width=\"225pt\" xmlns=\"http://www.w3.org/2000/svg\" xmlns:xlink=\"http://www.w3.org/1999/xlink\">\n",
       "<g class=\"graph\" id=\"graph0\" transform=\"scale(1 1) rotate(0) translate(4 552)\">\n",
       "<title>G</title>\n",
       "<polygon fill=\"#ffffff\" points=\"-4,4 -4,-552 221.0107,-552 221.0107,4 -4,4\" stroke=\"transparent\"/>\n",
       "<!-- 4624166248 -->\n",
       "<g class=\"node\" id=\"node1\">\n",
       "<title>4624166248</title>\n",
       "<polygon fill=\"none\" points=\"44.3242,-511.5 44.3242,-547.5 172.6865,-547.5 172.6865,-511.5 44.3242,-511.5\" stroke=\"#000000\"/>\n",
       "<text fill=\"#000000\" font-family=\"Times,serif\" font-size=\"14.00\" text-anchor=\"middle\" x=\"108.5054\" y=\"-525.3\">input_1: InputLayer</text>\n",
       "</g>\n",
       "<!-- 4624166528 -->\n",
       "<g class=\"node\" id=\"node2\">\n",
       "<title>4624166528</title>\n",
       "<polygon fill=\"none\" points=\"0,-438.5 0,-474.5 217.0107,-474.5 217.0107,-438.5 0,-438.5\" stroke=\"#000000\"/>\n",
       "<text fill=\"#000000\" font-family=\"Times,serif\" font-size=\"14.00\" text-anchor=\"middle\" x=\"108.5054\" y=\"-452.3\">zero_padding2d_1: ZeroPadding2D</text>\n",
       "</g>\n",
       "<!-- 4624166248&#45;&gt;4624166528 -->\n",
       "<g class=\"edge\" id=\"edge1\">\n",
       "<title>4624166248-&gt;4624166528</title>\n",
       "<path d=\"M108.5054,-511.4551C108.5054,-503.3828 108.5054,-493.6764 108.5054,-484.6817\" fill=\"none\" stroke=\"#000000\"/>\n",
       "<polygon fill=\"#000000\" points=\"112.0055,-484.5903 108.5054,-474.5904 105.0055,-484.5904 112.0055,-484.5903\" stroke=\"#000000\"/>\n",
       "</g>\n",
       "<!-- 4624166696 -->\n",
       "<g class=\"node\" id=\"node3\">\n",
       "<title>4624166696</title>\n",
       "<polygon fill=\"none\" points=\"55.9795,-365.5 55.9795,-401.5 161.0313,-401.5 161.0313,-365.5 55.9795,-365.5\" stroke=\"#000000\"/>\n",
       "<text fill=\"#000000\" font-family=\"Times,serif\" font-size=\"14.00\" text-anchor=\"middle\" x=\"108.5054\" y=\"-379.3\">conv0: Conv2D</text>\n",
       "</g>\n",
       "<!-- 4624166528&#45;&gt;4624166696 -->\n",
       "<g class=\"edge\" id=\"edge2\">\n",
       "<title>4624166528-&gt;4624166696</title>\n",
       "<path d=\"M108.5054,-438.4551C108.5054,-430.3828 108.5054,-420.6764 108.5054,-411.6817\" fill=\"none\" stroke=\"#000000\"/>\n",
       "<polygon fill=\"#000000\" points=\"112.0055,-411.5903 108.5054,-401.5904 105.0055,-411.5904 112.0055,-411.5903\" stroke=\"#000000\"/>\n",
       "</g>\n",
       "<!-- 26969743144 -->\n",
       "<g class=\"node\" id=\"node4\">\n",
       "<title>26969743144</title>\n",
       "<polygon fill=\"none\" points=\"29.5518,-292.5 29.5518,-328.5 187.459,-328.5 187.459,-292.5 29.5518,-292.5\" stroke=\"#000000\"/>\n",
       "<text fill=\"#000000\" font-family=\"Times,serif\" font-size=\"14.00\" text-anchor=\"middle\" x=\"108.5054\" y=\"-306.3\">bn0: BatchNormalization</text>\n",
       "</g>\n",
       "<!-- 4624166696&#45;&gt;26969743144 -->\n",
       "<g class=\"edge\" id=\"edge3\">\n",
       "<title>4624166696-&gt;26969743144</title>\n",
       "<path d=\"M108.5054,-365.4551C108.5054,-357.3828 108.5054,-347.6764 108.5054,-338.6817\" fill=\"none\" stroke=\"#000000\"/>\n",
       "<polygon fill=\"#000000\" points=\"112.0055,-338.5903 108.5054,-328.5904 105.0055,-338.5904 112.0055,-338.5903\" stroke=\"#000000\"/>\n",
       "</g>\n",
       "<!-- 26969493344 -->\n",
       "<g class=\"node\" id=\"node5\">\n",
       "<title>26969493344</title>\n",
       "<polygon fill=\"none\" points=\"33.0449,-219.5 33.0449,-255.5 183.9658,-255.5 183.9658,-219.5 33.0449,-219.5\" stroke=\"#000000\"/>\n",
       "<text fill=\"#000000\" font-family=\"Times,serif\" font-size=\"14.00\" text-anchor=\"middle\" x=\"108.5054\" y=\"-233.3\">activation_1: Activation</text>\n",
       "</g>\n",
       "<!-- 26969743144&#45;&gt;26969493344 -->\n",
       "<g class=\"edge\" id=\"edge4\">\n",
       "<title>26969743144-&gt;26969493344</title>\n",
       "<path d=\"M108.5054,-292.4551C108.5054,-284.3828 108.5054,-274.6764 108.5054,-265.6817\" fill=\"none\" stroke=\"#000000\"/>\n",
       "<polygon fill=\"#000000\" points=\"112.0055,-265.5903 108.5054,-255.5904 105.0055,-265.5904 112.0055,-265.5903\" stroke=\"#000000\"/>\n",
       "</g>\n",
       "<!-- 26969742808 -->\n",
       "<g class=\"node\" id=\"node6\">\n",
       "<title>26969742808</title>\n",
       "<polygon fill=\"none\" points=\"25.645,-146.5 25.645,-182.5 191.3657,-182.5 191.3657,-146.5 25.645,-146.5\" stroke=\"#000000\"/>\n",
       "<text fill=\"#000000\" font-family=\"Times,serif\" font-size=\"14.00\" text-anchor=\"middle\" x=\"108.5054\" y=\"-160.3\">max_pool: MaxPooling2D</text>\n",
       "</g>\n",
       "<!-- 26969493344&#45;&gt;26969742808 -->\n",
       "<g class=\"edge\" id=\"edge5\">\n",
       "<title>26969493344-&gt;26969742808</title>\n",
       "<path d=\"M108.5054,-219.4551C108.5054,-211.3828 108.5054,-201.6764 108.5054,-192.6817\" fill=\"none\" stroke=\"#000000\"/>\n",
       "<polygon fill=\"#000000\" points=\"112.0055,-192.5903 108.5054,-182.5904 105.0055,-192.5904 112.0055,-192.5903\" stroke=\"#000000\"/>\n",
       "</g>\n",
       "<!-- 26969743200 -->\n",
       "<g class=\"node\" id=\"node7\">\n",
       "<title>26969743200</title>\n",
       "<polygon fill=\"none\" points=\"52.8726,-73.5 52.8726,-109.5 164.1382,-109.5 164.1382,-73.5 52.8726,-73.5\" stroke=\"#000000\"/>\n",
       "<text fill=\"#000000\" font-family=\"Times,serif\" font-size=\"14.00\" text-anchor=\"middle\" x=\"108.5054\" y=\"-87.3\">flatten_1: Flatten</text>\n",
       "</g>\n",
       "<!-- 26969742808&#45;&gt;26969743200 -->\n",
       "<g class=\"edge\" id=\"edge6\">\n",
       "<title>26969742808-&gt;26969743200</title>\n",
       "<path d=\"M108.5054,-146.4551C108.5054,-138.3828 108.5054,-128.6764 108.5054,-119.6817\" fill=\"none\" stroke=\"#000000\"/>\n",
       "<polygon fill=\"#000000\" points=\"112.0055,-119.5903 108.5054,-109.5904 105.0055,-119.5904 112.0055,-119.5903\" stroke=\"#000000\"/>\n",
       "</g>\n",
       "<!-- 27061410840 -->\n",
       "<g class=\"node\" id=\"node8\">\n",
       "<title>27061410840</title>\n",
       "<polygon fill=\"none\" points=\"73.8794,-.5 73.8794,-36.5 143.1313,-36.5 143.1313,-.5 73.8794,-.5\" stroke=\"#000000\"/>\n",
       "<text fill=\"#000000\" font-family=\"Times,serif\" font-size=\"14.00\" text-anchor=\"middle\" x=\"108.5054\" y=\"-14.3\">fc: Dense</text>\n",
       "</g>\n",
       "<!-- 26969743200&#45;&gt;27061410840 -->\n",
       "<g class=\"edge\" id=\"edge7\">\n",
       "<title>26969743200-&gt;27061410840</title>\n",
       "<path d=\"M108.5054,-73.4551C108.5054,-65.3828 108.5054,-55.6764 108.5054,-46.6817\" fill=\"none\" stroke=\"#000000\"/>\n",
       "<polygon fill=\"#000000\" points=\"112.0055,-46.5903 108.5054,-36.5904 105.0055,-46.5904 112.0055,-46.5903\" stroke=\"#000000\"/>\n",
       "</g>\n",
       "</g>\n",
       "</svg>"
      ],
      "text/plain": [
       "<IPython.core.display.SVG object>"
      ]
     },
     "execution_count": 10,
     "metadata": {},
     "output_type": "execute_result"
    }
   ],
   "source": [
    "plot_model(happyModel, to_file='HappyModel.png')\n",
    "SVG(model_to_dot(happyModel).create(prog='dot', format='svg'))"
   ]
  },
  {
   "cell_type": "code",
   "execution_count": null,
   "metadata": {},
   "outputs": [],
   "source": []
  }
 ],
 "metadata": {
  "kernelspec": {
   "display_name": "Python 3",
   "language": "python",
   "name": "python3"
  },
  "language_info": {
   "codemirror_mode": {
    "name": "ipython",
    "version": 3
   },
   "file_extension": ".py",
   "mimetype": "text/x-python",
   "name": "python",
   "nbconvert_exporter": "python",
   "pygments_lexer": "ipython3",
   "version": "3.6.9"
  }
 },
 "nbformat": 4,
 "nbformat_minor": 2
}
